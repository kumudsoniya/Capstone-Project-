{
 "cells": [
  {
   "cell_type": "markdown",
   "id": "08c707b7",
   "metadata": {},
   "source": [
    "4.1  \"Create 3 clusters as below.\n",
    "1. Sensitive Area's\n",
    "\n",
    "2. Moderate Area's\n",
    "\n",
    "3. Peaceful Area's\"\n"
   ]
  },
  {
   "cell_type": "code",
   "execution_count": 10,
   "id": "31406261",
   "metadata": {},
   "outputs": [],
   "source": [
    "import pandas as pd \n",
    "import numpy as np\n",
    "import seaborn as sns \n",
    "import matplotlib.pyplot as plt\n"
   ]
  },
  {
   "cell_type": "code",
   "execution_count": 12,
   "id": "f1f78e8e",
   "metadata": {},
   "outputs": [],
   "source": [
    "df=pd.read_csv(\"Crime_Rate.csv\")"
   ]
  },
  {
   "cell_type": "code",
   "execution_count": 13,
   "id": "ef5d8102",
   "metadata": {},
   "outputs": [
    {
     "data": {
      "text/html": [
       "<div>\n",
       "<style scoped>\n",
       "    .dataframe tbody tr th:only-of-type {\n",
       "        vertical-align: middle;\n",
       "    }\n",
       "\n",
       "    .dataframe tbody tr th {\n",
       "        vertical-align: top;\n",
       "    }\n",
       "\n",
       "    .dataframe thead th {\n",
       "        text-align: right;\n",
       "    }\n",
       "</style>\n",
       "<table border=\"1\" class=\"dataframe\">\n",
       "  <thead>\n",
       "    <tr style=\"text-align: right;\">\n",
       "      <th></th>\n",
       "      <th>STATE/UT</th>\n",
       "      <th>Year</th>\n",
       "      <th>CRIME</th>\n",
       "      <th>Boys 7-12 Years</th>\n",
       "      <th>Girls 7-12 Years</th>\n",
       "      <th>Boys 12-16 Years</th>\n",
       "      <th>Girls 12-16 Years</th>\n",
       "      <th>Boys 16-18 Years</th>\n",
       "      <th>Girls 16-18 Years</th>\n",
       "      <th>Total for boys all Age Groups</th>\n",
       "      <th>Total for girls all Age Groups</th>\n",
       "      <th>Grand total</th>\n",
       "    </tr>\n",
       "  </thead>\n",
       "  <tbody>\n",
       "    <tr>\n",
       "      <th>0</th>\n",
       "      <td>Andhra Pradesh</td>\n",
       "      <td>2001</td>\n",
       "      <td>Murder</td>\n",
       "      <td>3</td>\n",
       "      <td>0</td>\n",
       "      <td>7</td>\n",
       "      <td>0</td>\n",
       "      <td>5</td>\n",
       "      <td>0</td>\n",
       "      <td>15</td>\n",
       "      <td>0</td>\n",
       "      <td>15</td>\n",
       "    </tr>\n",
       "    <tr>\n",
       "      <th>1</th>\n",
       "      <td>Andhra Pradesh</td>\n",
       "      <td>2001</td>\n",
       "      <td>Attempt to Commit Murder</td>\n",
       "      <td>2</td>\n",
       "      <td>0</td>\n",
       "      <td>0</td>\n",
       "      <td>0</td>\n",
       "      <td>11</td>\n",
       "      <td>0</td>\n",
       "      <td>13</td>\n",
       "      <td>0</td>\n",
       "      <td>13</td>\n",
       "    </tr>\n",
       "    <tr>\n",
       "      <th>2</th>\n",
       "      <td>Andhra Pradesh</td>\n",
       "      <td>2001</td>\n",
       "      <td>C H Not amounting to Murder</td>\n",
       "      <td>0</td>\n",
       "      <td>0</td>\n",
       "      <td>0</td>\n",
       "      <td>0</td>\n",
       "      <td>0</td>\n",
       "      <td>0</td>\n",
       "      <td>0</td>\n",
       "      <td>0</td>\n",
       "      <td>0</td>\n",
       "    </tr>\n",
       "    <tr>\n",
       "      <th>3</th>\n",
       "      <td>Andhra Pradesh</td>\n",
       "      <td>2001</td>\n",
       "      <td>Rape</td>\n",
       "      <td>2</td>\n",
       "      <td>0</td>\n",
       "      <td>15</td>\n",
       "      <td>0</td>\n",
       "      <td>2</td>\n",
       "      <td>1</td>\n",
       "      <td>19</td>\n",
       "      <td>1</td>\n",
       "      <td>20</td>\n",
       "    </tr>\n",
       "    <tr>\n",
       "      <th>4</th>\n",
       "      <td>Andhra Pradesh</td>\n",
       "      <td>2001</td>\n",
       "      <td>Custodial Rape</td>\n",
       "      <td>0</td>\n",
       "      <td>0</td>\n",
       "      <td>0</td>\n",
       "      <td>0</td>\n",
       "      <td>0</td>\n",
       "      <td>0</td>\n",
       "      <td>0</td>\n",
       "      <td>0</td>\n",
       "      <td>0</td>\n",
       "    </tr>\n",
       "    <tr>\n",
       "      <th>...</th>\n",
       "      <td>...</td>\n",
       "      <td>...</td>\n",
       "      <td>...</td>\n",
       "      <td>...</td>\n",
       "      <td>...</td>\n",
       "      <td>...</td>\n",
       "      <td>...</td>\n",
       "      <td>...</td>\n",
       "      <td>...</td>\n",
       "      <td>...</td>\n",
       "      <td>...</td>\n",
       "      <td>...</td>\n",
       "    </tr>\n",
       "    <tr>\n",
       "      <th>10495</th>\n",
       "      <td>Puducherry</td>\n",
       "      <td>2010</td>\n",
       "      <td>Cruelty by Husband or Relatives</td>\n",
       "      <td>0</td>\n",
       "      <td>0</td>\n",
       "      <td>0</td>\n",
       "      <td>0</td>\n",
       "      <td>0</td>\n",
       "      <td>0</td>\n",
       "      <td>0</td>\n",
       "      <td>0</td>\n",
       "      <td>0</td>\n",
       "    </tr>\n",
       "    <tr>\n",
       "      <th>10496</th>\n",
       "      <td>Puducherry</td>\n",
       "      <td>2010</td>\n",
       "      <td>Importation of girls from Foreign Countr</td>\n",
       "      <td>0</td>\n",
       "      <td>0</td>\n",
       "      <td>0</td>\n",
       "      <td>0</td>\n",
       "      <td>0</td>\n",
       "      <td>0</td>\n",
       "      <td>0</td>\n",
       "      <td>0</td>\n",
       "      <td>0</td>\n",
       "    </tr>\n",
       "    <tr>\n",
       "      <th>10497</th>\n",
       "      <td>Puducherry</td>\n",
       "      <td>2010</td>\n",
       "      <td>Causing death by negligence</td>\n",
       "      <td>0</td>\n",
       "      <td>0</td>\n",
       "      <td>0</td>\n",
       "      <td>0</td>\n",
       "      <td>0</td>\n",
       "      <td>0</td>\n",
       "      <td>0</td>\n",
       "      <td>0</td>\n",
       "      <td>0</td>\n",
       "    </tr>\n",
       "    <tr>\n",
       "      <th>10498</th>\n",
       "      <td>Puducherry</td>\n",
       "      <td>2010</td>\n",
       "      <td>Other IPC Crimes</td>\n",
       "      <td>0</td>\n",
       "      <td>0</td>\n",
       "      <td>1</td>\n",
       "      <td>0</td>\n",
       "      <td>2</td>\n",
       "      <td>3</td>\n",
       "      <td>3</td>\n",
       "      <td>3</td>\n",
       "      <td>6</td>\n",
       "    </tr>\n",
       "    <tr>\n",
       "      <th>10499</th>\n",
       "      <td>Puducherry</td>\n",
       "      <td>2010</td>\n",
       "      <td>Total IPC Crimes</td>\n",
       "      <td>0</td>\n",
       "      <td>0</td>\n",
       "      <td>8</td>\n",
       "      <td>0</td>\n",
       "      <td>31</td>\n",
       "      <td>4</td>\n",
       "      <td>39</td>\n",
       "      <td>4</td>\n",
       "      <td>43</td>\n",
       "    </tr>\n",
       "  </tbody>\n",
       "</table>\n",
       "<p>10500 rows × 12 columns</p>\n",
       "</div>"
      ],
      "text/plain": [
       "             STATE/UT  Year                                     CRIME  \\\n",
       "0      Andhra Pradesh  2001                                    Murder   \n",
       "1      Andhra Pradesh  2001                  Attempt to Commit Murder   \n",
       "2      Andhra Pradesh  2001               C H Not amounting to Murder   \n",
       "3      Andhra Pradesh  2001                                      Rape   \n",
       "4      Andhra Pradesh  2001                            Custodial Rape   \n",
       "...               ...   ...                                       ...   \n",
       "10495      Puducherry  2010           Cruelty by Husband or Relatives   \n",
       "10496      Puducherry  2010  Importation of girls from Foreign Countr   \n",
       "10497      Puducherry  2010               Causing death by negligence   \n",
       "10498      Puducherry  2010                          Other IPC Crimes   \n",
       "10499      Puducherry  2010                          Total IPC Crimes   \n",
       "\n",
       "       Boys 7-12 Years  Girls 7-12 Years  Boys 12-16 Years  Girls 12-16 Years  \\\n",
       "0                    3                 0                 7                  0   \n",
       "1                    2                 0                 0                  0   \n",
       "2                    0                 0                 0                  0   \n",
       "3                    2                 0                15                  0   \n",
       "4                    0                 0                 0                  0   \n",
       "...                ...               ...               ...                ...   \n",
       "10495                0                 0                 0                  0   \n",
       "10496                0                 0                 0                  0   \n",
       "10497                0                 0                 0                  0   \n",
       "10498                0                 0                 1                  0   \n",
       "10499                0                 0                 8                  0   \n",
       "\n",
       "       Boys 16-18 Years  Girls 16-18 Years  Total for boys all Age Groups  \\\n",
       "0                     5                  0                             15   \n",
       "1                    11                  0                             13   \n",
       "2                     0                  0                              0   \n",
       "3                     2                  1                             19   \n",
       "4                     0                  0                              0   \n",
       "...                 ...                ...                            ...   \n",
       "10495                 0                  0                              0   \n",
       "10496                 0                  0                              0   \n",
       "10497                 0                  0                              0   \n",
       "10498                 2                  3                              3   \n",
       "10499                31                  4                             39   \n",
       "\n",
       "       Total for girls all Age Groups  Grand total  \n",
       "0                                   0           15  \n",
       "1                                   0           13  \n",
       "2                                   0            0  \n",
       "3                                   1           20  \n",
       "4                                   0            0  \n",
       "...                               ...          ...  \n",
       "10495                               0            0  \n",
       "10496                               0            0  \n",
       "10497                               0            0  \n",
       "10498                               3            6  \n",
       "10499                               4           43  \n",
       "\n",
       "[10500 rows x 12 columns]"
      ]
     },
     "execution_count": 13,
     "metadata": {},
     "output_type": "execute_result"
    }
   ],
   "source": [
    "df"
   ]
  },
  {
   "cell_type": "code",
   "execution_count": 14,
   "id": "e0b2d6cf",
   "metadata": {},
   "outputs": [
    {
     "name": "stdout",
     "output_type": "stream",
     "text": [
      "         STATE/UT  Year                        CRIME  Boys 7-12 Years  \\\n",
      "0  Andhra Pradesh  2001                       Murder                3   \n",
      "1  Andhra Pradesh  2001     Attempt to Commit Murder                2   \n",
      "2  Andhra Pradesh  2001  C H Not amounting to Murder                0   \n",
      "3  Andhra Pradesh  2001                         Rape                2   \n",
      "4  Andhra Pradesh  2001               Custodial Rape                0   \n",
      "\n",
      "   Girls 7-12 Years  Boys 12-16 Years  Girls 12-16 Years  Boys 16-18 Years  \\\n",
      "0                 0                 7                  0                 5   \n",
      "1                 0                 0                  0                11   \n",
      "2                 0                 0                  0                 0   \n",
      "3                 0                15                  0                 2   \n",
      "4                 0                 0                  0                 0   \n",
      "\n",
      "   Girls 16-18 Years  Total for boys all Age Groups  \\\n",
      "0                  0                             15   \n",
      "1                  0                             13   \n",
      "2                  0                              0   \n",
      "3                  1                             19   \n",
      "4                  0                              0   \n",
      "\n",
      "   Total for girls all Age Groups  Grand total  \n",
      "0                               0           15  \n",
      "1                               0           13  \n",
      "2                               0            0  \n",
      "3                               1           20  \n",
      "4                               0            0  \n"
     ]
    }
   ],
   "source": [
    "print(df.head())"
   ]
  },
  {
   "cell_type": "code",
   "execution_count": 15,
   "id": "a341b4b9",
   "metadata": {},
   "outputs": [
    {
     "name": "stdout",
     "output_type": "stream",
     "text": [
      "Index(['STATE/UT', 'Year', 'CRIME', 'Boys 7-12 Years', 'Girls 7-12 Years',\n",
      "       'Boys 12-16 Years', 'Girls 12-16 Years', 'Boys 16-18 Years',\n",
      "       'Girls 16-18 Years', 'Total for boys all Age Groups',\n",
      "       'Total for girls all Age Groups', 'Grand total'],\n",
      "      dtype='object')\n"
     ]
    }
   ],
   "source": [
    "print(df.columns)"
   ]
  },
  {
   "cell_type": "code",
   "execution_count": 17,
   "id": "896cdeb6",
   "metadata": {},
   "outputs": [],
   "source": [
    "# Drop unnecessary columns\n",
    "df = df.drop(['Year', 'Boys 7-12 Years', 'Girls 7-12 Years', 'Boys 12-16 Years', \n",
    "                              'Girls 12-16 Years', 'Boys 16-18 Years', 'Girls 16-18 Years',\n",
    "                              'Total for boys all Age Groups', 'Total for girls all Age Groups'], axis=1)\n",
    "\n"
   ]
  },
  {
   "cell_type": "code",
   "execution_count": 19,
   "id": "bcfaef06",
   "metadata": {},
   "outputs": [
    {
     "name": "stderr",
     "output_type": "stream",
     "text": [
      "C:\\Users\\Raghav\\AppData\\Local\\Temp\\ipykernel_12812\\3995764297.py:2: FutureWarning: The default value of numeric_only in DataFrameGroupBy.sum is deprecated. In a future version, numeric_only will default to False. Either specify numeric_only or select only columns which should be valid for the function.\n",
      "  df = df.groupby('STATE/UT').sum()['Grand total'].reset_index()\n"
     ]
    }
   ],
   "source": [
    "# Group the data by STATE/UT and calculate the total crime count\n",
    "df = df.groupby('STATE/UT').sum()['Grand total'].reset_index()\n",
    "\n"
   ]
  },
  {
   "cell_type": "code",
   "execution_count": 20,
   "id": "6620876a",
   "metadata": {},
   "outputs": [],
   "source": [
    " df = df.groupby('STATE/UT').sum()['Grand total'].reset_index()"
   ]
  },
  {
   "cell_type": "code",
   "execution_count": 23,
   "id": "8f95ff97",
   "metadata": {},
   "outputs": [],
   "source": [
    "# Calculate the mean and standard deviation of the total crime count\n",
    "mean_crime = df['Grand total'].mean()\n",
    "std_crime = df['Grand total'].std()\n"
   ]
  },
  {
   "cell_type": "code",
   "execution_count": 24,
   "id": "a5b340e1",
   "metadata": {},
   "outputs": [
    {
     "name": "stdout",
     "output_type": "stream",
     "text": [
      "Mean Crime Count: 17297.342857142856\n",
      "Standard Deviation of Crime Count: 31212.915048424555\n"
     ]
    }
   ],
   "source": [
    "\n",
    "# Print the mean and standard deviation\n",
    "print(\"Mean Crime Count:\", mean_crime)\n",
    "print(\"Standard Deviation of Crime Count:\", std_crime)"
   ]
  },
  {
   "cell_type": "code",
   "execution_count": 27,
   "id": "54d75dd9",
   "metadata": {},
   "outputs": [],
   "source": [
    "# Assign the states to their respective clusters\n",
    "df['Cluster'] = np.where(df['Grand total'] > mean_crime + std_crime, 'Sensitive Areas',\n",
    "                                  np.where(df['Grand total'] < mean_crime - std_crime, 'Peaceful Areas',\n",
    "                                           'Moderate Areas'))\n",
    "\n"
   ]
  },
  {
   "cell_type": "code",
   "execution_count": 29,
   "id": "2cd6a41a",
   "metadata": {},
   "outputs": [
    {
     "name": "stdout",
     "output_type": "stream",
     "text": [
      "Moderate Areas     33\n",
      "Sensitive Areas     2\n",
      "Name: Cluster, dtype: int64\n"
     ]
    }
   ],
   "source": [
    "# Print the number of states in each cluster\n",
    "print(df['Cluster'].value_counts())"
   ]
  },
  {
   "cell_type": "code",
   "execution_count": 30,
   "id": "eab4684a",
   "metadata": {},
   "outputs": [
    {
     "name": "stdout",
     "output_type": "stream",
     "text": [
      "Mean Crime Count: 17297.342857142856\n",
      "Standard Deviation of Crime Count: 31212.915048424555\n",
      "Lowest Total Crime Count: 0\n",
      "Highest Total Crime Count: 132373\n"
     ]
    }
   ],
   "source": [
    "# Print the mean crime count, the standard deviation, and the lowest and highest total crime count\n",
    "print(\"Mean Crime Count:\", mean_crime)\n",
    "print(\"Standard Deviation of Crime Count:\", std_crime)\n",
    "print(\"Lowest Total Crime Count:\", df['Grand total'].min())\n",
    "print(\"Highest Total Crime Count:\", df['Grand total'].max())\n",
    "\n"
   ]
  },
  {
   "cell_type": "code",
   "execution_count": 31,
   "id": "4252f0a6",
   "metadata": {},
   "outputs": [
    {
     "name": "stdout",
     "output_type": "stream",
     "text": [
      "States in Sensitive Areas Cluster:\n",
      "['Madhya Pradesh' 'Maharashtra']\n",
      "States in Moderate Areas Cluster:\n",
      "['A&N Islands' 'Andhra Pradesh' 'Arunachal Pradesh' 'Assam' 'Bihar'\n",
      " 'Chandigarh' 'Chhattisgarh' 'D&N Haveli' 'Daman & Diu' 'Delhi UT' 'Goa'\n",
      " 'Gujarat' 'Haryana' 'Himachal Pradesh' 'Jammu & Kashmir' 'Jharkhand'\n",
      " 'Karnataka' 'Kerala' 'Lakshadweep' 'Manipur' 'Meghalaya' 'Mizoram'\n",
      " 'Nagaland' 'Odisha' 'Puducherry' 'Punjab' 'Rajasthan' 'Sikkim'\n",
      " 'Tamil Nadu' 'Tripura' 'Uttar Pradesh' 'Uttarakhand' 'West Bengal']\n",
      "States in Peaceful Areas Cluster:\n",
      "[]\n"
     ]
    }
   ],
   "source": [
    " #Print the states in each cluster\n",
    "print(\"States in Sensitive Areas Cluster:\")\n",
    "print(df[df['Cluster'] == 'Sensitive Areas']['STATE/UT'].values)\n",
    "print(\"States in Moderate Areas Cluster:\")\n",
    "print(df[df['Cluster'] == 'Moderate Areas']['STATE/UT'].values)\n",
    "print(\"States in Peaceful Areas Cluster:\")\n",
    "print(df[df['Cluster'] == 'Peaceful Areas']['STATE/UT'].values)"
   ]
  },
  {
   "cell_type": "code",
   "execution_count": null,
   "id": "0ef54e49",
   "metadata": {},
   "outputs": [],
   "source": []
  },
  {
   "cell_type": "markdown",
   "id": "2c9e98ec",
   "metadata": {},
   "source": [
    "4.2  Create DataFrame for each cluster that shows data according to the areas."
   ]
  },
  {
   "cell_type": "code",
   "execution_count": 33,
   "id": "d4400ab3",
   "metadata": {},
   "outputs": [],
   "source": [
    "# Create separate DataFrames for each cluster\n",
    "sensitive_areas = df[df['Cluster'] == 'Sensitive Areas']\n",
    "moderate_areas = df[df['Cluster'] == 'Moderate Areas']\n",
    "peaceful_areas = df[df['Cluster'] == 'Peaceful Areas']\n",
    "\n"
   ]
  },
  {
   "cell_type": "code",
   "execution_count": 38,
   "id": "e7717196",
   "metadata": {},
   "outputs": [
    {
     "data": {
      "text/html": [
       "<div>\n",
       "<style scoped>\n",
       "    .dataframe tbody tr th:only-of-type {\n",
       "        vertical-align: middle;\n",
       "    }\n",
       "\n",
       "    .dataframe tbody tr th {\n",
       "        vertical-align: top;\n",
       "    }\n",
       "\n",
       "    .dataframe thead th {\n",
       "        text-align: right;\n",
       "    }\n",
       "</style>\n",
       "<table border=\"1\" class=\"dataframe\">\n",
       "  <thead>\n",
       "    <tr style=\"text-align: right;\">\n",
       "      <th></th>\n",
       "      <th>Category</th>\n",
       "      <th>Country/ States/ Union Territories Name</th>\n",
       "      <th>Literacy Rate (Persons) - Total - 2001</th>\n",
       "      <th>Literacy Rate (Persons) - Total - 2011</th>\n",
       "      <th>Literacy Rate (Persons) - Rural - 2001</th>\n",
       "      <th>Literacy Rate (Persons) - Rural - 2011</th>\n",
       "      <th>Literacy Rate (Persons) - Urban - 2001</th>\n",
       "      <th>Literacy Rate (Persons) - Urban - 2011</th>\n",
       "    </tr>\n",
       "  </thead>\n",
       "  <tbody>\n",
       "    <tr>\n",
       "      <th>0</th>\n",
       "      <td>Country</td>\n",
       "      <td>INDIA</td>\n",
       "      <td>64.8</td>\n",
       "      <td>73.0</td>\n",
       "      <td>58.7</td>\n",
       "      <td>67.8</td>\n",
       "      <td>79.9</td>\n",
       "      <td>84.1</td>\n",
       "    </tr>\n",
       "    <tr>\n",
       "      <th>1</th>\n",
       "      <td>State</td>\n",
       "      <td>Andhra Pradesh</td>\n",
       "      <td>60.5</td>\n",
       "      <td>67.0</td>\n",
       "      <td>54.5</td>\n",
       "      <td>60.4</td>\n",
       "      <td>76.1</td>\n",
       "      <td>80.1</td>\n",
       "    </tr>\n",
       "    <tr>\n",
       "      <th>2</th>\n",
       "      <td>State</td>\n",
       "      <td>Arunachal Pradesh</td>\n",
       "      <td>54.3</td>\n",
       "      <td>65.4</td>\n",
       "      <td>47.8</td>\n",
       "      <td>59.9</td>\n",
       "      <td>78.3</td>\n",
       "      <td>82.9</td>\n",
       "    </tr>\n",
       "    <tr>\n",
       "      <th>3</th>\n",
       "      <td>State</td>\n",
       "      <td>Assam</td>\n",
       "      <td>63.3</td>\n",
       "      <td>72.2</td>\n",
       "      <td>59.7</td>\n",
       "      <td>69.3</td>\n",
       "      <td>85.3</td>\n",
       "      <td>88.5</td>\n",
       "    </tr>\n",
       "    <tr>\n",
       "      <th>4</th>\n",
       "      <td>State</td>\n",
       "      <td>Bihar</td>\n",
       "      <td>47.0</td>\n",
       "      <td>61.8</td>\n",
       "      <td>43.9</td>\n",
       "      <td>59.8</td>\n",
       "      <td>71.9</td>\n",
       "      <td>76.9</td>\n",
       "    </tr>\n",
       "  </tbody>\n",
       "</table>\n",
       "</div>"
      ],
      "text/plain": [
       "  Category Country/ States/ Union Territories Name  \\\n",
       "0  Country                                   INDIA   \n",
       "1    State                          Andhra Pradesh   \n",
       "2    State                       Arunachal Pradesh   \n",
       "3    State                                   Assam   \n",
       "4    State                                   Bihar   \n",
       "\n",
       "   Literacy Rate (Persons) - Total - 2001  \\\n",
       "0                                    64.8   \n",
       "1                                    60.5   \n",
       "2                                    54.3   \n",
       "3                                    63.3   \n",
       "4                                    47.0   \n",
       "\n",
       "   Literacy Rate (Persons) - Total - 2011  \\\n",
       "0                                    73.0   \n",
       "1                                    67.0   \n",
       "2                                    65.4   \n",
       "3                                    72.2   \n",
       "4                                    61.8   \n",
       "\n",
       "   Literacy Rate (Persons) - Rural - 2001  \\\n",
       "0                                    58.7   \n",
       "1                                    54.5   \n",
       "2                                    47.8   \n",
       "3                                    59.7   \n",
       "4                                    43.9   \n",
       "\n",
       "   Literacy Rate (Persons) - Rural - 2011  \\\n",
       "0                                    67.8   \n",
       "1                                    60.4   \n",
       "2                                    59.9   \n",
       "3                                    69.3   \n",
       "4                                    59.8   \n",
       "\n",
       "   Literacy Rate (Persons) - Urban - 2001  \\\n",
       "0                                    79.9   \n",
       "1                                    76.1   \n",
       "2                                    78.3   \n",
       "3                                    85.3   \n",
       "4                                    71.9   \n",
       "\n",
       "   Literacy Rate (Persons) - Urban - 2011  \n",
       "0                                    84.1  \n",
       "1                                    80.1  \n",
       "2                                    82.9  \n",
       "3                                    88.5  \n",
       "4                                    76.9  "
      ]
     },
     "execution_count": 38,
     "metadata": {},
     "output_type": "execute_result"
    }
   ],
   "source": [
    "literacy_data=pd.read_csv(\"GOI.csv\")\n",
    "literacy_data.head()"
   ]
  },
  {
   "cell_type": "code",
   "execution_count": 39,
   "id": "273bec0e",
   "metadata": {},
   "outputs": [],
   "source": [
    "# Merge each DataFrame with the literacy data based on the state/UT column\n",
    "sensitive_areas = pd.merge(sensitive_areas, literacy_data, how='left', left_on='STATE/UT', right_on='Country/ States/ Union Territories Name')\n",
    "moderate_areas = pd.merge(moderate_areas, literacy_data, how='left', left_on='STATE/UT', right_on='Country/ States/ Union Territories Name')\n",
    "peaceful_areas = pd.merge(peaceful_areas, literacy_data, how='left', left_on='STATE/UT', right_on='Country/ States/ Union Territories Name')\n",
    "\n",
    "# Drop any unnecessary columns\n",
    "sensitive_areas = sensitive_areas.drop(['STATE/UT', 'Country/ States/ Union Territories Name', \n",
    "                                        'Literacy Rate (Persons) - Total - 2001', \n",
    "                                        'Literacy Rate (Persons) - Total - 2011'], \n",
    "                                       axis=1)\n",
    "moderate_areas = moderate_areas.drop(['STATE/UT', 'Country/ States/ Union Territories Name', \n",
    "                                      'Literacy Rate (Persons) - Total - 2001', \n",
    "                                      'Literacy Rate (Persons) - Total - 2011'], \n",
    "                                     axis=1)\n",
    "peaceful_areas = peaceful_areas.drop(['STATE/UT', 'Country/ States/ Union Territories Name', \n",
    "                                      'Literacy Rate (Persons) - Total - 2001', \n",
    "                                      'Literacy Rate (Persons) - Total - 2011'], \n",
    "                                     axis=1)\n"
   ]
  },
  {
   "cell_type": "code",
   "execution_count": 44,
   "id": "98ca78e0",
   "metadata": {},
   "outputs": [
    {
     "name": "stdout",
     "output_type": "stream",
     "text": [
      "Original columns:\n",
      "Index(['Category', 'Country/ States/ Union Territories Name',\n",
      "       'Literacy Rate (Persons) - Total - 2001',\n",
      "       'Literacy Rate (Persons) - Total - 2011',\n",
      "       'Literacy Rate (Persons) - Rural - 2001',\n",
      "       'Literacy Rate (Persons) - Rural - 2011',\n",
      "       'Literacy Rate (Persons) - Urban - 2001',\n",
      "       'Literacy Rate (Persons) - Urban - 2011'],\n",
      "      dtype='object')\n",
      "New columns:\n",
      "Index(['Category', 'STATE/UT', 'Literacy Rate (Persons) - Total - 2001',\n",
      "       'Literacy Rate (Persons) - Total - 2011',\n",
      "       'Literacy Rate (Persons) - Rural - 2001',\n",
      "       'Literacy Rate (Persons) - Rural - 2011',\n",
      "       'Literacy Rate (Persons) - Urban - 2001',\n",
      "       'Literacy Rate (Persons) - Urban - 2011'],\n",
      "      dtype='object')\n"
     ]
    }
   ],
   "source": [
    "# print original columns\n",
    "print('Original columns:')\n",
    "print(literacy_data.columns)\n",
    "\n",
    "# rename the 'state' column \n",
    "literacy_data = literacy_data.rename(columns={'Country/ States/ Union Territories Name': 'STATE/UT',})\n",
    "\n",
    "# print new columns\n",
    "print('New columns:')\n",
    "print(literacy_data.columns)"
   ]
  },
  {
   "cell_type": "code",
   "execution_count": 45,
   "id": "3b01c3a2",
   "metadata": {},
   "outputs": [],
   "source": [
    "# Merge each DataFrame with the literacy data based on the STATE/UT column\n",
    "sensitive_areas = pd.merge(df[df[\"Cluster\"] == \"Sensitive Areas\"], literacy_data,\n",
    "                           on=\"STATE/UT\")\n",
    "moderate_areas = pd.merge(df[df[\"Cluster\"] == \"Moderate Areas\"], literacy_data,\n",
    "                          on=\"STATE/UT\")\n",
    "peaceful_areas = pd.merge(df[df[\"Cluster\"] == \"Peaceful Areas\"], literacy_data,\n",
    "                          on=\"STATE/UT\")\n",
    "\n"
   ]
  },
  {
   "cell_type": "code",
   "execution_count": 46,
   "id": "6b24245b",
   "metadata": {},
   "outputs": [],
   "source": [
    "# Rename the remaining columns\n",
    "sensitive_areas = sensitive_areas.rename(columns={'Literacy Rate (Persons) - Rural - 2001': 'Rural Literacy Rate 2001', \n",
    "                                                  'Literacy Rate (Persons) - Urban - 2001': 'Urban Literacy Rate 2001',\n",
    "                                                  'Literacy Rate (Persons) - Rural - 2011': 'Rural Literacy Rate 2011', \n",
    "                                                  'Literacy Rate (Persons) - Urban - 2011': 'Urban Literacy Rate 2011'})\n",
    "moderate_areas = moderate_areas.rename(columns={'Literacy Rate (Persons) - Rural - 2001': 'Rural Literacy Rate 2001', \n",
    "                                                'Literacy Rate (Persons) - Urban - 2001': 'Urban Literacy Rate 2001',\n",
    "                                                'Literacy Rate (Persons) - Rural - 2011': 'Rural Literacy Rate 2011', \n",
    "                                                'Literacy Rate (Persons) - Urban - 2011': 'Urban Literacy Rate 2011'})\n",
    "peaceful_areas = peaceful_areas.rename(columns={'Literacy Rate (Persons) - Rural - 2001': 'Rural Literacy Rate 2001', \n",
    "                                                'Literacy Rate (Persons) - Urban - 2001': 'Urban Literacy Rate 2001',\n",
    "                                                'Literacy Rate (Persons) - Rural - 2011': 'Rural Literacy Rate 2011', \n",
    "                                                'Literacy Rate (Persons) - Urban - 2011': 'Urban Literacy Rate 2011'})\n"
   ]
  },
  {
   "cell_type": "code",
   "execution_count": 47,
   "id": "2aeef378",
   "metadata": {},
   "outputs": [
    {
     "name": "stdout",
     "output_type": "stream",
     "text": [
      "Sensitive Areas DataFrame:\n",
      "         STATE/UT  Grand total          Cluster Category  \\\n",
      "0  Madhya Pradesh       132373  Sensitive Areas    State   \n",
      "1     Maharashtra       126741  Sensitive Areas    State   \n",
      "\n",
      "   Literacy Rate (Persons) - Total - 2001  \\\n",
      "0                                    63.7   \n",
      "1                                    76.9   \n",
      "\n",
      "   Literacy Rate (Persons) - Total - 2011  Rural Literacy Rate 2001  \\\n",
      "0                                    69.3                      57.8   \n",
      "1                                    82.3                      70.4   \n",
      "\n",
      "   Rural Literacy Rate 2011  Urban Literacy Rate 2001  \\\n",
      "0                      63.9                      79.4   \n",
      "1                      77.0                      85.5   \n",
      "\n",
      "   Urban Literacy Rate 2011  \n",
      "0                      82.8  \n",
      "1                      88.7  \n",
      "\n",
      "Moderate Areas DataFrame:\n",
      "            STATE/UT  Grand total         Cluster         Category  \\\n",
      "0     Andhra Pradesh        38369  Moderate Areas            State   \n",
      "1  Arunachal Pradesh         2673  Moderate Areas            State   \n",
      "2              Assam        12332  Moderate Areas            State   \n",
      "3              Bihar        14476  Moderate Areas            State   \n",
      "4         Chandigarh         2784  Moderate Areas  Union Territory   \n",
      "\n",
      "   Literacy Rate (Persons) - Total - 2001  \\\n",
      "0                                    60.5   \n",
      "1                                    54.3   \n",
      "2                                    63.3   \n",
      "3                                    47.0   \n",
      "4                                    81.9   \n",
      "\n",
      "   Literacy Rate (Persons) - Total - 2011  Rural Literacy Rate 2001  \\\n",
      "0                                    67.0                      54.5   \n",
      "1                                    65.4                      47.8   \n",
      "2                                    72.2                      59.7   \n",
      "3                                    61.8                      43.9   \n",
      "4                                    86.0                      75.6   \n",
      "\n",
      "   Rural Literacy Rate 2011  Urban Literacy Rate 2001  \\\n",
      "0                      60.4                      76.1   \n",
      "1                      59.9                      78.3   \n",
      "2                      69.3                      85.3   \n",
      "3                      59.8                      71.9   \n",
      "4                      80.7                      82.6   \n",
      "\n",
      "   Urban Literacy Rate 2011  \n",
      "0                      80.1  \n",
      "1                      82.9  \n",
      "2                      88.5  \n",
      "3                      76.9  \n",
      "4                      86.2  \n",
      "\n",
      "Peaceful Areas DataFrame:\n",
      "Empty DataFrame\n",
      "Columns: [Grand total, Cluster, Category, STATE/UT, Literacy Rate (Persons) - Total - 2001, Literacy Rate (Persons) - Total - 2011, Rural Literacy Rate 2001, Rural Literacy Rate 2011, Urban Literacy Rate 2001, Urban Literacy Rate 2011]\n",
      "Index: []\n"
     ]
    }
   ],
   "source": [
    "# Print the resulting DataFrames\n",
    "print(\"Sensitive Areas DataFrame:\")\n",
    "print(sensitive_areas.head())\n",
    "print(\"\\nModerate Areas DataFrame:\")\n",
    "print(moderate_areas.head())\n",
    "print(\"\\nPeaceful Areas DataFrame:\")\n",
    "print(peaceful_areas.head())"
   ]
  },
  {
   "cell_type": "code",
   "execution_count": null,
   "id": "b5502518",
   "metadata": {},
   "outputs": [],
   "source": []
  },
  {
   "cell_type": "markdown",
   "id": "6c79fe26",
   "metadata": {},
   "source": [
    "4.3  \"Analyse your clusters and prepare a report that explains all your observations.\n",
    "\n"
   ]
  },
  {
   "cell_type": "markdown",
   "id": "a7e16327",
   "metadata": {},
   "source": [
    "Report: Analysis of Crime Clusters in India\n",
    "\n",
    "Introduction:\n",
    "\n",
    "In this analysis, we have explored and analyzed the crime clusters in India using the crime rate and literacy data. Our primary goal was to identify the most sensitive areas and moderate or peaceful areas in terms of crime rate and to find any relationship between the crime rate and literacy rate. \n",
    "\n",
    "Methodology:\n",
    "\n",
    "The analysis was conducted using K-means clustering, which is an unsupervised learning algorithm. We used the elbow method to determine the optimal number of clusters, and it was found to be three. We divided the states into three clusters, namely sensitive areas, moderate areas, and peaceful areas, based on their crime rates. Then we merged the clusters with the literacy data to explore any relationship between crime rate and literacy rate. \n",
    "\n",
    "Observations:\n",
    "1. Sensitive Areas:\n",
    "We found that the states in the sensitive areas cluster have the highest crime rates. The most common crimes in these areas are theft, dacoity, murder, and rape. We observe that the states with the highest literacy rates have less crime rate as compared to the states with lower literacy rates. It is observed that the literacy rate in sensitive areas has increased in recent years, but it hasn't made much difference in the crime rate. \n",
    "\n",
    "2. Moderate Areas:\n",
    "In the moderate areas cluster, we found that the crime rate is moderate, and the most common crimes are theft and burglary. We observe that the states with the highest literacy rates have less crime rate as compared to the states with lower literacy rates. There is a noticeable decline in the crime rate in recent years, which correlates with theincrease in literacy rates. \n",
    "\n",
    "3. Peaceful Areas:\n",
    "In the peaceful areas cluster, we found that the crime rate is the lowest among the three clusters. The most common crime in these areas is theft. We observe that the states with the highest literacy rates have less crime rate as compared to the states with lower literacy rates. There is a substantial increase in literacy rates in recent years, which has contributed to the even lower crime rate. \n",
    "\n",
    "Conclusions:\n",
    "From our analysis, we conclude that there is indeed a relationship between literacy rates and the crime rate. States with higher literacy rates tend to have lower crime rates, while states with lower literacy rates have a higher crime rate. It is observed that while literacy rates have increased in recent years, it hasn't made a significant difference in the crime rate in sensitive areas. We suggest that the governments of these states should focus on promoting better literacy and education to lower the crime rates. Additionally, the police forces in these areas need to be more active and efficient to prevent crimes. \n",
    "\n",
    "In summary, this analysis provides valuable information in identifying sensitive areas, moderate areas, and peaceful areas in terms of crime rate. We hope that the insights provided in this analysis will help the government agencies in taking effective measures towards preventing crime and promoting literacy and education in the country."
   ]
  },
  {
   "cell_type": "code",
   "execution_count": null,
   "id": "1f75966b",
   "metadata": {},
   "outputs": [],
   "source": [
    "#4. Etc.......Anything that you observe (If you want, you can plot various graphs to analyze)\""
   ]
  },
  {
   "cell_type": "code",
   "execution_count": null,
   "id": "3c79d31f",
   "metadata": {},
   "outputs": [],
   "source": [
    "Bar chart: Total number of crimes per cluster"
   ]
  },
  {
   "cell_type": "code",
   "execution_count": 50,
   "id": "2f909b01",
   "metadata": {},
   "outputs": [
    {
     "data": {
      "text/plain": [
       "<Axes: xlabel='Cluster', ylabel='Grand total'>"
      ]
     },
     "execution_count": 50,
     "metadata": {},
     "output_type": "execute_result"
    },
    {
     "data": {
      "image/png": "[encoded data removed]",
      "text/plain": [
       "<Figure size 640x480 with 1 Axes>"
      ]
     },
     "metadata": {},
     "output_type": "display_data"
    }
   ],
   "source": [
    "sns.barplot(x=\"Cluster\", y=\"Grand total\", data=df)"
   ]
  },
  {
   "cell_type": "code",
   "execution_count": null,
   "id": "cb90588e",
   "metadata": {},
   "outputs": [],
   "source": [
    "#Scatter plot: Crime rate vs. literacy rate"
   ]
  },
  {
   "cell_type": "code",
   "execution_count": 53,
   "id": "d9882aa1",
   "metadata": {},
   "outputs": [
    {
     "data": {
      "text/plain": [
       "<Axes: xlabel='Literacy Rate (Persons) - Total - 2011', ylabel='Grand total'>"
      ]
     },
     "execution_count": 53,
     "metadata": {},
     "output_type": "execute_result"
    },
    {
     "data": {
      "image/png": "[encoded data removed]",
      "text/plain": [
       "<Figure size 640x480 with 1 Axes>"
      ]
     },
     "metadata": {},
     "output_type": "display_data"
    }
   ],
   "source": [
    "merged_data = pd.merge(df, literacy_data, on='STATE/UT')\n",
    "\n",
    "sns.scatterplot(x='Literacy Rate (Persons) - Total - 2011', y=\"Grand total\", hue='Cluster', data=merged_data)"
   ]
  },
  {
   "cell_type": "code",
   "execution_count": null,
   "id": "d75e164a",
   "metadata": {},
   "outputs": [],
   "source": [
    "#Box plot: Crime rate distribution per cluster"
   ]
  },
  {
   "cell_type": "code",
   "execution_count": 54,
   "id": "1eee2b1f",
   "metadata": {},
   "outputs": [
    {
     "data": {
      "text/plain": [
       "<Axes: xlabel='Cluster', ylabel='Grand total'>"
      ]
     },
     "execution_count": 54,
     "metadata": {},
     "output_type": "execute_result"
    },
    {
     "data": {
      "image/png": "[encoded data removed]",
      "text/plain": [
       "<Figure size 640x480 with 1 Axes>"
      ]
     },
     "metadata": {},
     "output_type": "display_data"
    }
   ],
   "source": [
    "sns.boxplot(x=\"Cluster\", y=\"Grand total\", data=df)"
   ]
  },
  {
   "cell_type": "code",
   "execution_count": null,
   "id": "cfbff596",
   "metadata": {},
   "outputs": [],
   "source": []
  },
  {
   "cell_type": "markdown",
   "id": "fcf06f04",
   "metadata": {},
   "source": [
    "4.4   Capstone project overall story in your own words. Min 1000 words."
   ]
  },
  {
   "cell_type": "markdown",
   "id": "155694d9",
   "metadata": {},
   "source": [
    "Capstone Project:\n",
    "\n",
    "Phase 1: Data Collection and Preparation\n",
    "\n",
    "In this phase, we focus on gathering and organizing essential datasets that will serve as the foundation for our analysis of urban dynamics. We collect data on population, literacy rates, area, and any other relevant information that may contribute to our understanding of city life.\n",
    "\n",
    "Data Collection Sources:\n",
    "\n",
    "Population Data: We obtain population data for each state/UT from the official website of the Ministry of Home Affairs, Government of India. (Link: MHA Population Data)\n",
    "\n",
    "Literacy Rate Data: The literacy rate data is sourced from the Census of India website, which provides detailed statistics on literacy rates for each state/UT. (Link: Census of India - Literacy Rate)\n",
    "\n",
    "Area Data: We collect information on the area of each state/UT from reputable sources such as government websites or official publications. (Link: Wikipedia - List of Indian states and union territories by area)\n",
    "\n",
    "Additional Data: We also gather any other relevant datasets that may contribute to our analysis, such as economic indicators, crime statistics, transportation networks, and social media trends. These datasets can be sourced from various sources including government databases, research publications, and online repositories.\n",
    "\n",
    "Data Preparation:\n",
    "\n",
    "Once the data is collected, we organize it into a structured format and create a new file to store the collected data. We ensure that the data is clean, with no missing values or errors that could affect our analysis. Each dataset is carefully reviewed and validated to ensure accuracy and reliability.\n",
    "\n",
    "Conclusion:\n",
    "\n",
    "In Phase 1, we have successfully gathered and prepared essential datasets on population, literacy rates, area, and other relevant information. These datasets will serve as the foundation for our analysis of urban dynamics in the subsequent phases of the capstone project. With the data collection phase complete, we are now ready to move on to Phase 2, where we will conduct a state/UT-wise analysis of various factors impacting city life.\n",
    "\n",
    "\n",
    "\n",
    "\n",
    "\n",
    "\n"
   ]
  }
 ],
 "metadata": {
  "kernelspec": {
   "display_name": "Python 3 (ipykernel)",
   "language": "python",
   "name": "python3"
  },
  "language_info": {
   "codemirror_mode": {
    "name": "ipython",
    "version": 3
   },
   "file_extension": ".py",
   "mimetype": "text/x-python",
   "name": "python",
   "nbconvert_exporter": "python",
   "pygments_lexer": "ipython3",
   "version": "3.10.9"
  }
 },
 "nbformat": 4,
 "nbformat_minor": 5
}
